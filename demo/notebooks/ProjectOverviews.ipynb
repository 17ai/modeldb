{
 "cells": [
  {
   "cell_type": "code",
   "execution_count": null,
   "metadata": {
    "collapsed": true
   },
   "outputs": [],
   "source": [
    "from modeldb.basic.ModelDbSyncerBase import *\n",
    "import yaml"
   ]
  },
  {
   "cell_type": "code",
   "execution_count": null,
   "metadata": {
    "collapsed": true
   },
   "outputs": [],
   "source": [
    "syncer_obj = Syncer.create_syncer(\"John's Project\", \\\n",
    "                                  \"john\", \\\n",
    "                                  \"use sync_all\", \\\n",
    "                                  host=\"backend\")"
   ]
  },
  {
   "cell_type": "code",
   "execution_count": null,
   "metadata": {
    "collapsed": true
   },
   "outputs": [],
   "source": [
    "syncer_obj = Syncer.create_syncer(\"Bob's Project\", \\\n",
    "                                  \"bob\", \\\n",
    "                                  \"use sync_all\", \\\n",
    "                                  host=\"backend\")"
   ]
  },
  {
   "cell_type": "code",
   "execution_count": null,
   "metadata": {
    "collapsed": true
   },
   "outputs": [],
   "source": [
    "syncer_obj = Syncer.create_syncer(\"test_user's Project\", \\\n",
    "                                  \"test_user\", \\\n",
    "                                  \"use sync_all\", \\\n",
    "                                  host=\"backend\",\n",
    "                                  api_key='1234567890abcdef')"
   ]
  },
  {
   "cell_type": "code",
   "execution_count": null,
   "metadata": {
    "collapsed": false
   },
   "outputs": [],
   "source": [
    "my_projects = syncer_obj.get_my_project_overviews()\n",
    "for p in my_projects: print(p.project.name)\n",
    "my_projects"
   ]
  },
  {
   "cell_type": "code",
   "execution_count": null,
   "metadata": {
    "collapsed": false
   },
   "outputs": [],
   "source": [
    "all_projects = syncer_obj.get_project_overviews()\n",
    "for p in all_projects: print(p.project.name)\n",
    "all_projects"
   ]
  },
  {
   "cell_type": "code",
   "execution_count": null,
   "metadata": {
    "collapsed": true
   },
   "outputs": [],
   "source": []
  }
 ],
 "metadata": {
  "kernelspec": {
   "display_name": "Python 2",
   "language": "python",
   "name": "python2"
  },
  "language_info": {
   "codemirror_mode": {
    "name": "ipython",
    "version": 2
   },
   "file_extension": ".py",
   "mimetype": "text/x-python",
   "name": "python",
   "nbconvert_exporter": "python",
   "pygments_lexer": "ipython2",
   "version": "2.7.12"
  }
 },
 "nbformat": 4,
 "nbformat_minor": 0
}
